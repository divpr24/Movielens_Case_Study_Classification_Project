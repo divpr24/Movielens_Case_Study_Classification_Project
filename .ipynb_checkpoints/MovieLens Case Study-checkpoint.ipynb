{
 "cells": [
  {
   "cell_type": "markdown",
   "id": "35b6e994",
   "metadata": {},
   "source": [
    "**Background of Problem Statement :**\n",
    "\n",
    "The GroupLens Research Project is a research group in the Department of Computer Science and Engineering at the University of Minnesota. Members of the GroupLens Research Project are involved in many research projects related to the fields of information filtering, collaborative filtering, and recommender systems. The project is led by professors John Riedl and Joseph Konstan. The project began to explore automated collaborative filtering in 1992 but is most well known for its worldwide trial of an automated collaborative filtering system for Usenet news in 1996. Since then the project has expanded its scope to research overall information by filtering solutions, integrating into content-based methods, as well as, improving current collaborative filtering technology.\n",
    "\n",
    "**Problem Objective :**\n",
    "\n",
    "Here, we ask you to perform the analysis using the Exploratory Data Analysis technique. You need to find features affecting the ratings of any particular movie and build a model to predict the movie ratings."
   ]
  },
  {
   "cell_type": "markdown",
   "id": "e84391f7",
   "metadata": {},
   "source": [
    "**Analysis Tasks to be performed:**\n",
    "\n",
    "1. Import the three datasets.\n",
    "\n",
    "2. Create a new dataset [Master_Data] with the following columns MovieID Title UserID Age Gender Occupation Rating. (Hint: (i) Merge two tables at a time. (ii) Merge the tables using two primary keys MovieID & UserId).\n",
    "\n",
    "3. Explore the datasets using visual representations (graphs or tables), also include your comments on the following:\n",
    "\n",
    "    i). User Age Distribution.\n",
    "\n",
    "    ii). User rating of the movie “Toy Story”.\n",
    "\n",
    "    iii). Top 25 movies by viewership rating.\n",
    "\n",
    "    iv). Find the ratings for all the movies reviewed by for a particular user of user  id = 2696.\n",
    "    \n",
    "\n",
    "4. Feature Engineering:\n",
    "\n",
    "    **Use column genres:**\n",
    "\n",
    "    i). Find out all the unique genres (Hint: split the data in column genre making a list and then process the data to find out only the unique categories of genres).\n",
    "    \n",
    "    ii). Create a separate column for each genre category with a one-hot encoding ( 1 and 0) whether or not the movie belongs to that genre.\n",
    "    \n",
    "    iii). Determine the features affecting the ratings of any particular movie.\n",
    "    \n",
    "    iv).Develop an appropriate model to predict the movie ratings Dataset Description :\n",
    "\n",
    "***These files contain 1,000,209 anonymous ratings of approximately 3,900 movies made by 6,040 MovieLens users who joined MovieLens in 2000.***"
   ]
  },
  {
   "cell_type": "code",
   "execution_count": null,
   "id": "5dd8818f",
   "metadata": {},
   "outputs": [],
   "source": [
    "#Import the necessary library.\n",
    "import numpy as np\n",
    "import pandas as pd\n",
    "import matplotlib.pyplot as plt\n",
    "import seaborn as sns\n",
    "%matplotlib inline\n",
    "\n",
    "#Import machine learning library."
   ]
  },
  {
   "cell_type": "markdown",
   "id": "fca26724",
   "metadata": {},
   "source": [
    "**1. Import the dataset.**"
   ]
  },
  {
   "cell_type": "code",
   "execution_count": null,
   "id": "9df3dcb2",
   "metadata": {},
   "outputs": [],
   "source": [
    "data_1 = pd.read_csv('movies.csv', engine = 'python', sep = '::', encoding = 'latin-1'\n",
    "                    ,header = None)\n",
    "data_1.columns = ['Movie_ID', 'Title', 'Genres']\n",
    "print(data_1.shape)\n",
    "data_1.head()"
   ]
  },
  {
   "cell_type": "code",
   "execution_count": null,
   "id": "766a96b3",
   "metadata": {},
   "outputs": [],
   "source": [
    "data_1.describe()"
   ]
  },
  {
   "cell_type": "code",
   "execution_count": null,
   "id": "3526b48c",
   "metadata": {},
   "outputs": [],
   "source": [
    "data_1.info()"
   ]
  },
  {
   "cell_type": "code",
   "execution_count": null,
   "id": "c271c723",
   "metadata": {},
   "outputs": [],
   "source": [
    "data_2 = pd.read_csv('users.csv', engine = 'python', sep = '::', encoding = 'latin-1',\n",
    "                    header = None)\n",
    "data_2.columns = ['User_ID','Gender','Age','Occupation','Zip_Code']\n",
    "print(data_2.shape)\n",
    "data_2.head()"
   ]
  },
  {
   "cell_type": "code",
   "execution_count": null,
   "id": "71f43022",
   "metadata": {},
   "outputs": [],
   "source": [
    "data_2.describe()"
   ]
  },
  {
   "cell_type": "code",
   "execution_count": null,
   "id": "9252ce60",
   "metadata": {},
   "outputs": [],
   "source": [
    "data_2.info()"
   ]
  },
  {
   "cell_type": "code",
   "execution_count": null,
   "id": "3272a4c6",
   "metadata": {},
   "outputs": [],
   "source": [
    "data_3 = pd.read_csv('ratings.csv', engine = 'python', sep = '::', encoding = 'latin-1',\n",
    "                    header = None)\n",
    "data_3.columns = ['User_ID','Movie_ID','Ratings','Timestamp']\n",
    "print(data_3.shape)\n",
    "data_3.head()"
   ]
  },
  {
   "cell_type": "code",
   "execution_count": null,
   "id": "9c12d37b",
   "metadata": {},
   "outputs": [],
   "source": [
    "data_3.describe()"
   ]
  },
  {
   "cell_type": "code",
   "execution_count": null,
   "id": "520c3556",
   "metadata": {},
   "outputs": [],
   "source": [
    "data_3.info()"
   ]
  },
  {
   "cell_type": "markdown",
   "id": "18085399",
   "metadata": {},
   "source": [
    "**2. Create a Master Data**"
   ]
  },
  {
   "cell_type": "code",
   "execution_count": null,
   "id": "1a8e9055",
   "metadata": {},
   "outputs": [],
   "source": [
    "data_4 = pd.merge(data_1,data_3, on = 'Movie_ID', how = 'inner')\n",
    "data_4.head()"
   ]
  },
  {
   "cell_type": "code",
   "execution_count": null,
   "id": "2095957c",
   "metadata": {},
   "outputs": [],
   "source": [
    "data = pd.merge(data_4,data_2, on = 'User_ID', how = 'inner')\n",
    "data.head()"
   ]
  },
  {
   "cell_type": "code",
   "execution_count": null,
   "id": "ab605cbc",
   "metadata": {},
   "outputs": [],
   "source": [
    "print(data.shape)\n",
    "#print(data.describe)\n",
    "data.info()"
   ]
  },
  {
   "cell_type": "markdown",
   "id": "02aa2588",
   "metadata": {},
   "source": [
    "**#3 -i). User Age Distribution**"
   ]
  },
  {
   "cell_type": "code",
   "execution_count": null,
   "id": "6f53af51",
   "metadata": {},
   "outputs": [],
   "source": [
    "#1.User Age Distribution\n",
    "sns.histplot(data = data['Age'], bins = 7, color = 'grey')\n",
    "plt.title('User Age Distribution')\n",
    "plt.show()"
   ]
  },
  {
   "cell_type": "code",
   "execution_count": null,
   "id": "0fba4e05",
   "metadata": {},
   "outputs": [],
   "source": [
    "sns.boxplot(data = data['Age'])\n",
    "plt.show()"
   ]
  },
  {
   "cell_type": "code",
   "execution_count": null,
   "id": "9e29832d",
   "metadata": {},
   "outputs": [],
   "source": [
    "(data['Age'].value_counts()).plot(kind = 'bar')\n",
    "plt.title('User Age Distribution')\n",
    "plt.show()"
   ]
  },
  {
   "cell_type": "markdown",
   "id": "60d79ab7",
   "metadata": {},
   "source": [
    "**3 - ii). User rating of the movie “Toy Story”**"
   ]
  },
  {
   "cell_type": "code",
   "execution_count": null,
   "id": "2b3e9290",
   "metadata": {},
   "outputs": [],
   "source": [
    "#User rating of the movie “Toy Story”\n",
    "movie_list = data.groupby('Title')[['Ratings']].mean()"
   ]
  },
  {
   "cell_type": "code",
   "execution_count": null,
   "id": "fa5dc395",
   "metadata": {},
   "outputs": [],
   "source": [
    "movie_list = movie_list.reset_index()"
   ]
  },
  {
   "cell_type": "code",
   "execution_count": null,
   "id": "98686a05",
   "metadata": {},
   "outputs": [],
   "source": [
    "print(movie_list[movie_list['Title'] == 'Toy Story 2 (1999)'])\n",
    "print(\"\\n\")\n",
    "print(movie_list[movie_list['Title'] == 'Toy Story (1995)'])"
   ]
  },
  {
   "cell_type": "markdown",
   "id": "f4a52b8e",
   "metadata": {},
   "source": [
    "**3 - iii). Top 25 movies by viewership rating.**"
   ]
  },
  {
   "cell_type": "code",
   "execution_count": null,
   "id": "173b86f2",
   "metadata": {},
   "outputs": [],
   "source": [
    "#3.Top 25 movies by viewership rating.\n",
    "top_25 = movie_list.sort_values('Ratings', ascending = False).head(25)\n",
    "top_25 = top_25.reset_index(drop = True)\n",
    "top_25"
   ]
  },
  {
   "cell_type": "markdown",
   "id": "a1b6e6df",
   "metadata": {},
   "source": [
    "**3 - iv). Find the ratings for all the movies reviewed by for a particular user of user id = 2696.**"
   ]
  },
  {
   "cell_type": "code",
   "execution_count": null,
   "id": "a9d66902",
   "metadata": {},
   "outputs": [],
   "source": [
    "user_2696 = data[data['User_ID'] == 2696]\n",
    "movie_list_2696 = user_2696.groupby('Title')[['Ratings']].mean()\n",
    "movie_list_2696 = movie_list_2696.reset_index()\n",
    "print(movie_list_2696.shape)\n",
    "movie_list_2696"
   ]
  },
  {
   "cell_type": "markdown",
   "id": "17adee10",
   "metadata": {},
   "source": [
    "**4. Feature Engineering**"
   ]
  },
  {
   "cell_type": "markdown",
   "id": "7ed02a6e",
   "metadata": {},
   "source": [
    "**i) List of unique genres.**"
   ]
  },
  {
   "cell_type": "code",
   "execution_count": null,
   "id": "190ce3a5",
   "metadata": {},
   "outputs": [],
   "source": [
    "#Find out all the unique genres.\n",
    "genres = data['Genres']\n",
    "b = []\n",
    "for i in genres:\n",
    "    a = []\n",
    "    a = i.split('|')\n",
    "    b.append(a)\n",
    "    \n",
    "ls = []\n",
    "for i in b:\n",
    "    for j in i:\n",
    "        ls.append(j)\n",
    "\n",
    "ls = pd.Series(ls)\n",
    "ls = ls.unique()\n",
    "print(ls)"
   ]
  },
  {
   "cell_type": "markdown",
   "id": "3b4f09e9",
   "metadata": {},
   "source": [
    "**ii). Create a separate column for each genre category with a one-hot encoding ( 1 and 0) whether or not the movie belongs to that genre.**"
   ]
  },
  {
   "cell_type": "code",
   "execution_count": null,
   "id": "9a006954",
   "metadata": {},
   "outputs": [],
   "source": [
    "genre_dummy = data['Genres'].str.get_dummies()\n",
    "genre_dummy"
   ]
  },
  {
   "cell_type": "markdown",
   "id": "c59b9537",
   "metadata": {},
   "source": [
    "iii) **Determine the fetures affecting the rating of the movie.**"
   ]
  },
  {
   "cell_type": "markdown",
   "id": "803ad92c",
   "metadata": {},
   "source": [
    "**The dataset is a multiclass classification model with independent and dependent variable are as mentioned below:**\n",
    "\n",
    "**Independent variables:**\n",
    "1. Movie_ID \n",
    "2. Title \n",
    "3. Generes \n",
    "4. User_ID \n",
    "5. Gender\n",
    "6. Age \n",
    "7. Occupation\n",
    "8. Zip_Code \n",
    "9. Timestamp\n",
    "\n",
    "**Dependent Variable(or target variable)**\n",
    "1. Ratings"
   ]
  },
  {
   "cell_type": "code",
   "execution_count": null,
   "id": "439e094c",
   "metadata": {},
   "outputs": [],
   "source": [
    "#View the master data\n",
    "data.head()"
   ]
  },
  {
   "cell_type": "markdown",
   "id": "00015c1e",
   "metadata": {},
   "source": [
    "**Univariate Analysis of the relevant columns**"
   ]
  },
  {
   "cell_type": "code",
   "execution_count": null,
   "id": "cb7c142a",
   "metadata": {},
   "outputs": [],
   "source": [
    "#Count plot of the movie ratings. (Target variable)\n",
    "sns.countplot(data = data, x = 'Ratings')\n",
    "plt.title(\"Count plot of the Movie ratings\")\n",
    "plt.show()"
   ]
  },
  {
   "cell_type": "code",
   "execution_count": null,
   "id": "a661e372",
   "metadata": {},
   "outputs": [],
   "source": [
    "#Count plot of Age.\n",
    "sns.countplot(data = data, x = 'Gender')\n",
    "plt.title(\"Count plot of Gender\")\n",
    "plt.show()"
   ]
  },
  {
   "cell_type": "code",
   "execution_count": null,
   "id": "3da0f85d",
   "metadata": {},
   "outputs": [],
   "source": [
    "#Count plot of Age.\n",
    "sns.countplot(data = data, x = 'Age')\n",
    "plt.title(\"Count plot of Age\")\n",
    "plt.show()"
   ]
  },
  {
   "cell_type": "code",
   "execution_count": null,
   "id": "c99c4f2c",
   "metadata": {},
   "outputs": [],
   "source": [
    "#Count plot of Occupation.\n",
    "sns.countplot(data = data, x = 'Occupation')\n",
    "plt.title(\"Count plot of Occupation\")\n",
    "plt.show()"
   ]
  },
  {
   "cell_type": "markdown",
   "id": "22e776a6",
   "metadata": {},
   "source": [
    "**Bivariate Analysis of the Data**"
   ]
  },
  {
   "cell_type": "code",
   "execution_count": null,
   "id": "776037e9",
   "metadata": {},
   "outputs": [],
   "source": [
    "#1. Bivariate Analysis of Age with Rating.\n",
    "sns.countplot(data = data, x = 'Ratings', hue = 'Age')\n",
    "plt.title(\"Count plot of the Movie ratings\")\n",
    "plt.show()"
   ]
  },
  {
   "cell_type": "code",
   "execution_count": null,
   "id": "40b0e753",
   "metadata": {},
   "outputs": [],
   "source": [
    "sns.violinplot(data = data, x = 'Ratings', y = 'Age')\n",
    "plt.title(\"Violen plot of the Movie ratings\")\n",
    "plt.show()"
   ]
  },
  {
   "cell_type": "code",
   "execution_count": null,
   "id": "8e1f35c6",
   "metadata": {},
   "outputs": [],
   "source": [
    "#2.Bivariate Analysis of Sex with Rating.\n",
    "sns.countplot(data = data, x = 'Ratings', hue = 'Gender')\n",
    "plt.title(\"Count plot of the Movie ratings\")\n",
    "plt.show()"
   ]
  },
  {
   "cell_type": "code",
   "execution_count": null,
   "id": "0978a79a",
   "metadata": {},
   "outputs": [],
   "source": [
    "#2.Bivariate Analysis of Sex with Rating.\n",
    "sns.violinplot(data = data, x = 'Ratings', y = 'Occupation')\n",
    "plt.title(\"Violen plot of the Movie ratings\")\n",
    "plt.show()"
   ]
  },
  {
   "cell_type": "code",
   "execution_count": null,
   "id": "fb8153ee",
   "metadata": {},
   "outputs": [],
   "source": [
    "sns.heatmap(data.corr(), annot = True)"
   ]
  },
  {
   "cell_type": "markdown",
   "id": "647d80d3",
   "metadata": {},
   "source": [
    "**From the analysis above, we need to drop few independent features and retain some features mention below:**\n",
    "\n",
    "**Independent variables:**\n",
    "1. Movie_ID = Need to Drop\n",
    "2. Title = Need to Drop\n",
    "3. Generes = Affecting the rating of the movie.\n",
    "4. User_ID = Need to Drop\n",
    "5. Gender = Affecting the rating of the movie.\n",
    "6. Age = Affecting the rating of the movie.\n",
    "7. Occupation = Affecting the rating of the movie.\n",
    "8. Zip_Code = Need to Drop\n",
    "9. Timestamp = Need to Drop\n",
    "\n",
    "**Dependent Variable(or target variable)**\n",
    "1. Rating"
   ]
  },
  {
   "cell_type": "code",
   "execution_count": null,
   "id": "e9697e66",
   "metadata": {},
   "outputs": [],
   "source": [
    "data = data.drop(columns = ['Movie_ID','Title','Genres','User_ID','Zip_Code','Timestamp'], axis = 1)"
   ]
  },
  {
   "cell_type": "code",
   "execution_count": null,
   "id": "e76b8f24",
   "metadata": {},
   "outputs": [],
   "source": [
    "data = pd.concat([data, genre_dummy], axis = 1)\n",
    "data.head(10)"
   ]
  },
  {
   "cell_type": "code",
   "execution_count": null,
   "id": "f1c6fb3d",
   "metadata": {},
   "outputs": [],
   "source": [
    "from sklearn.preprocessing import LabelEncoder\n",
    "label = LabelEncoder()\n",
    "data['Gender'] = label.fit_transform(data['Gender'])\n",
    "data.head()"
   ]
  },
  {
   "cell_type": "code",
   "execution_count": null,
   "id": "bc90a11d",
   "metadata": {},
   "outputs": [],
   "source": [
    "from sklearn.preprocessing import StandardScaler\n",
    "scale = StandardScaler()\n",
    "data['Age'] = scale.fit_transform(data['Age'])\n",
    "data.head()"
   ]
  },
  {
   "cell_type": "code",
   "execution_count": null,
   "id": "3f8e40f1",
   "metadata": {},
   "outputs": [],
   "source": [
    "data = pd.get_dummies(data = data, column = 'Occupation')\n",
    "data.head(10)"
   ]
  },
  {
   "cell_type": "code",
   "execution_count": null,
   "id": "4a755a66",
   "metadata": {},
   "outputs": [],
   "source": [
    "#Splitting the data into Dependent and Independent variables.\n",
    "x = data.drop(columns = 'Ratings')\n",
    "y = data.iloc[:,0]"
   ]
  },
  {
   "cell_type": "code",
   "execution_count": null,
   "id": "831626aa",
   "metadata": {},
   "outputs": [],
   "source": [
    "#Splitting the data into training and Testing Set.\n",
    "from sklearn.model_selection import train_test_split\n",
    "x_train, x_test, y_train, y_test = train_test_split(x,y, random_state = 15)\n",
    "print(x_train.shape)\n",
    "print(x_test.shape)\n",
    "print(y_train.shape)\n",
    "print(y_test.shape)"
   ]
  },
  {
   "cell_type": "markdown",
   "id": "329c167b",
   "metadata": {},
   "source": [
    "**1. Logistic Regression Model**"
   ]
  },
  {
   "cell_type": "code",
   "execution_count": null,
   "id": "31a2f937",
   "metadata": {},
   "outputs": [],
   "source": [
    "from sklearn.linear_model import LogisticRegression\n",
    "model = LogisticRegression()\n",
    "model.fit(x_train,y_train)"
   ]
  },
  {
   "cell_type": "code",
   "execution_count": null,
   "id": "625650a5",
   "metadata": {},
   "outputs": [],
   "source": [
    "#Predict the accuracy of training and Testing data.\n",
    "from sklearn import metrics\n",
    "pred_train = model.predict(x_train)\n",
    "pred_test = model.predict(x_test)\n",
    "accuray_train = metrics.accuracy_score(y_train, pred_train)\n",
    "accuray_test = metrics.accuracy_score(y_test, pred_test)\n",
    "print(\"Training accuracy: {}\".format(accuray_train))\n",
    "print(\"Testing accuracy: {}\".format(accuray_test))"
   ]
  },
  {
   "cell_type": "code",
   "execution_count": null,
   "id": "c7106c41",
   "metadata": {},
   "outputs": [],
   "source": [
    "#Confusion Matrix and Classification report of the model.\n",
    "print(metrics.classification_report(pred_test,y_test))\n",
    "print(\"\\n\")\n",
    "print(metrics.confusion_matrix)"
   ]
  },
  {
   "cell_type": "markdown",
   "id": "2543b070",
   "metadata": {},
   "source": [
    "**2. Decision Tree Model**"
   ]
  },
  {
   "cell_type": "code",
   "execution_count": null,
   "id": "1cb3ab8e",
   "metadata": {},
   "outputs": [],
   "source": [
    "from sklearn.tree import DecisionTreeClassifier\n",
    "model = DecisionTreeClassifier()\n",
    "model.fit(x_train,y_train)"
   ]
  },
  {
   "cell_type": "code",
   "execution_count": null,
   "id": "a5cac7e3",
   "metadata": {},
   "outputs": [],
   "source": [
    "#Predict the accuracy of training and Testing data.\n",
    "pred_train = model.predict(x_train)\n",
    "pred_test = model.predict(x_test)\n",
    "accuray_train = metrics.accuracy_score(y_train, pred_train)\n",
    "accuray_test = metrics.accuracy_score(y_test, pred_test)\n",
    "print(\"Training accuracy: {}\".format(accuray_train))\n",
    "print(\"Testing accuracy: {}\".format(accuray_test))"
   ]
  },
  {
   "cell_type": "code",
   "execution_count": null,
   "id": "c693a9e0",
   "metadata": {},
   "outputs": [],
   "source": [
    "#Confusion Matrix and Classification report of the model.\n",
    "print(metrics.classification_report(pred_test,y_test))"
   ]
  },
  {
   "cell_type": "markdown",
   "id": "362c68bd",
   "metadata": {},
   "source": [
    "**3. Random Forest Model** "
   ]
  },
  {
   "cell_type": "code",
   "execution_count": null,
   "id": "c746fa71",
   "metadata": {},
   "outputs": [],
   "source": [
    "from sklearn.ensemble import RandomForestClassifier\n",
    "model = RandomForestClassifier()\n",
    "model.fit(x_train,y_train)"
   ]
  },
  {
   "cell_type": "code",
   "execution_count": null,
   "id": "b8c47a07",
   "metadata": {},
   "outputs": [],
   "source": [
    "#Predict the accuracy of training and Testing data.\n",
    "pred_train = model.predict(x_train)\n",
    "pred_test = model.predict(x_test)\n",
    "accuray_train = metrics.accuracy_score(y_train, pred_train)\n",
    "accuray_test = metrics.accuracy_score(y_test, pred_test)\n",
    "print(\"Training accuracy: {}\".format(accuray_train))\n",
    "print(\"Testing accuracy: {}\".format(accuray_test))"
   ]
  },
  {
   "cell_type": "code",
   "execution_count": null,
   "id": "5e4c4d65",
   "metadata": {},
   "outputs": [],
   "source": [
    "#Confusion Matrix and Classification report of the model.\n",
    "print(metrics.classification_report(pred_test,y_test))"
   ]
  },
  {
   "cell_type": "markdown",
   "id": "58d2921f",
   "metadata": {},
   "source": [
    "**4. Gradient Boosting Model**"
   ]
  },
  {
   "cell_type": "code",
   "execution_count": null,
   "id": "ee069754",
   "metadata": {},
   "outputs": [],
   "source": [
    "from sklearn.ensemble import GradientBoostingClassifier\n",
    "model = GradientBoostingClassifier(n_estimators = 200)\n",
    "#model.fit(x_train, y_train)"
   ]
  },
  {
   "cell_type": "code",
   "execution_count": null,
   "id": "b07f0373",
   "metadata": {},
   "outputs": [],
   "source": [
    "grid.fit(x_train,y_train)"
   ]
  },
  {
   "cell_type": "code",
   "execution_count": null,
   "id": "0aa594a1",
   "metadata": {},
   "outputs": [],
   "source": [
    "#Predict the accuracy of training and Testing data.\n",
    "from sklearn import metrics\n",
    "pred_train = model.predict(x_train)\n",
    "pred_test = model.predict(x_test)\n",
    "accuray_train = metrics.accuracy_score(y_train, pred_train)\n",
    "accuray_test = metrics.accuracy_score(y_test, pred_test)\n",
    "print(\"Training accuracy: {}\".format(accuray_train))\n",
    "print(\"Testing accuracy: {}\".format(accuray_test))"
   ]
  },
  {
   "cell_type": "code",
   "execution_count": null,
   "id": "4172c6d4",
   "metadata": {},
   "outputs": [],
   "source": [
    "#Confusion Matrix and Classification report of the model.\n",
    "print(metrics.classification_report(pred_test,y_test))"
   ]
  }
 ],
 "metadata": {
  "kernelspec": {
   "display_name": "Python 3 (ipykernel)",
   "language": "python",
   "name": "python3"
  },
  "language_info": {
   "codemirror_mode": {
    "name": "ipython",
    "version": 3
   },
   "file_extension": ".py",
   "mimetype": "text/x-python",
   "name": "python",
   "nbconvert_exporter": "python",
   "pygments_lexer": "ipython3",
   "version": "3.11.3"
  }
 },
 "nbformat": 4,
 "nbformat_minor": 5
}
